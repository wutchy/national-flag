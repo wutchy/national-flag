{
  "nbformat": 4,
  "nbformat_minor": 0,
  "metadata": {
    "colab": {
      "name": "national_flag.ipynb",
      "provenance": [],
      "collapsed_sections": [],
      "mount_file_id": "1i01hwJj6Qw04QKe_U0HNwMcew6z60awv",
      "authorship_tag": "ABX9TyMNRj76LiiYeLHpKxpULBXv",
      "include_colab_link": true
    },
    "kernelspec": {
      "name": "python3",
      "display_name": "Python 3"
    }
  },
  "cells": [
    {
      "cell_type": "markdown",
      "metadata": {
        "id": "view-in-github",
        "colab_type": "text"
      },
      "source": [
        "<a href=\"https://colab.research.google.com/github/wutchy/national-flag/blob/master/national_flag.ipynb\" target=\"_parent\"><img src=\"https://colab.research.google.com/assets/colab-badge.svg\" alt=\"Open In Colab\"/></a>"
      ]
    },
    {
      "cell_type": "code",
      "metadata": {
        "id": "o3aNoNi9qFbN",
        "colab_type": "code",
        "colab": {}
      },
      "source": [
        "!pip install beautifulsoup4\n",
        "!pip install icrawler"
      ],
      "execution_count": null,
      "outputs": []
    },
    {
      "cell_type": "code",
      "metadata": {
        "id": "fCEFy4ttyCbC",
        "colab_type": "code",
        "colab": {
          "base_uri": "https://localhost:8080/",
          "height": 71
        },
        "outputId": "fcefa92e-3174-46b7-f2b5-0f7c1d462cc6"
      },
      "source": [
        "import requests\n",
        "from bs4 import BeautifulSoup\n",
        "\n",
        "target_url = 'https://www.mofa.go.jp/region/asia-paci/index.html'\n",
        "r = requests.get(target_url)\n",
        "soup = BeautifulSoup(r.text, 'html.parser')\n",
        "\n",
        "asia_countries = []\n",
        "\n",
        "divs = soup.find(\"div\", id=\"area01\").find_all(\"div\")\n",
        "for div in divs:\n",
        "  lis = div.ul.find_all(\"li\", class_=\"styled2\")\n",
        "  for li in lis:\n",
        "    asia_countries.append(li.a.string)\n",
        "\n",
        "asia_countries.append('Japan')\n",
        "\n",
        "print(asia_countries)\n"
      ],
      "execution_count": null,
      "outputs": [
        {
          "output_type": "stream",
          "text": [
            "['Bangladesh', 'Bhutan', 'Brunei', 'Cambodia', 'China', 'India', 'Indonesia', 'Republic of Korea', 'Laos', 'Malaysia', 'Maldives', 'Mongolia ', 'Myanmar ', 'Nepal', 'Pakistan', 'Philippines', 'Singapore', 'Sri Lanka', 'Thailand', 'Timor-Leste', 'Viet Nam', 'Japan']\n"
          ],
          "name": "stdout"
        },
        {
          "output_type": "stream",
          "text": [
            "2020-08-10 22:08:43,085 - INFO - parser - parser-001 is waiting for new page urls\n"
          ],
          "name": "stderr"
        }
      ]
    },
    {
      "cell_type": "code",
      "metadata": {
        "id": "Y3vUL5phqhOj",
        "colab_type": "code",
        "colab": {}
      },
      "source": [
        "import sys\n",
        "import os\n",
        "\n",
        "\n",
        "#keywords = ['red circle', 'yellow circle']\n",
        "keywords = asia_countries\n",
        "\n",
        "download(keywords, skip=True)\n",
        "img_to_pkl(keywords, skip=True)\n",
        "\n",
        "# file_path = os.path.abspath(\"./images/palau_national_flag/000001.jpg\")\n",
        "\n",
        "# res1 = red_circle_estimate.has_red_circle(file_path)\n",
        "# res2 = white_background_estimate.has_white_background(file_path)"
      ],
      "execution_count": null,
      "outputs": []
    },
    {
      "cell_type": "code",
      "metadata": {
        "id": "phxWERbnsC9F",
        "colab_type": "code",
        "colab": {}
      },
      "source": [
        "from icrawler.builtin import BingImageCrawler\n",
        "import os\n",
        "\n",
        "\n",
        "def download(args, skip=False):\n",
        "\n",
        "    for arg in args:\n",
        "        save_dir = f\"/content/drive/My Drive/national_flag/images/flags/{arg.replace(' ', '_')}\"\n",
        "        if not os.path.isdir(save_dir):\n",
        "            os.mkdir(save_dir)\n",
        "\n",
        "        if not (skip is True and len(os.listdir(save_dir)) > 0):\n",
        "            crawler = BingImageCrawler(storage={'root_dir': save_dir})\n",
        "            crawler.crawl(keyword=arg+' national flag', max_num=1000)\n"
      ],
      "execution_count": null,
      "outputs": []
    },
    {
      "cell_type": "code",
      "metadata": {
        "id": "nSZDiQ1AsDHC",
        "colab_type": "code",
        "colab": {}
      },
      "source": [
        "import os\n",
        "from os import path\n",
        "import glob\n",
        "from PIL import Image, ImageFilter\n",
        "import matplotlib.pyplot as plt\n",
        "import numpy as np\n",
        "import pickle\n",
        "\n",
        "\n",
        "def img_to_pkl(keywords, skip=False):\n",
        "    img_size = (200, 200)\n",
        "\n",
        "    for keyword in keywords:\n",
        "        if not os.path.exists(f\"{keyword.replace(' ', '_')}_imgs.pkl\"):\n",
        "            first_file = True\n",
        "            files = glob.glob(f\"/content/drive/My Drive/national_flag/images/flags/{keyword.replace(' ', '_')}/*\")\n",
        " \n",
        "            for f in files:\n",
        "                img = Image.open(f)\n",
        "                img = img.resize(img_size)\n",
        "                img = img.convert(\"RGB\")\n",
        "                img = np.array(img).reshape(1, 200, 200, 3)\n",
        "                if first_file:\n",
        "                    imgs = img\n",
        "                    first_file = False\n",
        "                else:\n",
        "                    imgs = np.append(imgs, img, axis=0)\n",
        "\n",
        "            with open(f\"/content/drive/My Drive/national_flag/{keyword.replace(' ', '_')}_imgs.pkl\", 'wb') as f:\n",
        "                pickle.dump(imgs, f)\n"
      ],
      "execution_count": null,
      "outputs": []
    },
    {
      "cell_type": "code",
      "metadata": {
        "id": "ikGNarU3sDQ_",
        "colab_type": "code",
        "colab": {}
      },
      "source": [
        ""
      ],
      "execution_count": null,
      "outputs": []
    }
  ]
}